{
 "cells": [
  {
   "attachments": {},
   "cell_type": "markdown",
   "metadata": {},
   "source": [
    "# Langchain Quickstart\n",
    "https://venelinvalkov.medium.com/langchain-quickstart-build-powerful-chatgpt-applications-4d3bdbc742b2"
   ]
  },
  {
   "attachments": {},
   "cell_type": "markdown",
   "metadata": {},
   "source": [
    "## Setup"
   ]
  },
  {
   "cell_type": "code",
   "execution_count": 1,
   "metadata": {},
   "outputs": [],
   "source": [
    "import os\n",
    "import textwrap\n",
    " \n",
    "from langchain.chains import RetrievalQA\n",
    "from langchain.chat_models import ChatOpenAI\n",
    "from langchain.document_loaders import WebBaseLoader\n",
    "from langchain.embeddings import OpenAIEmbeddings\n",
    "from langchain.indexes import VectorstoreIndexCreator\n",
    "from langchain.llms import OpenAI\n",
    "from langchain.prompts import PromptTemplate\n",
    "from langchain.vectorstores import Chroma\n",
    "from langchain.document_loaders import WebBaseLoader"
   ]
  },
  {
   "cell_type": "code",
   "execution_count": 2,
   "metadata": {},
   "outputs": [],
   "source": [
    "def print_response(response: str):\n",
    "    print(\"\\n\".join(textwrap.wrap(response, width=100)))"
   ]
  },
  {
   "attachments": {},
   "cell_type": "markdown",
   "metadata": {},
   "source": [
    "## Model\n"
   ]
  },
  {
   "cell_type": "code",
   "execution_count": 3,
   "metadata": {},
   "outputs": [],
   "source": [
    "model = OpenAI(temperature=0)"
   ]
  },
  {
   "cell_type": "code",
   "execution_count": 4,
   "metadata": {},
   "outputs": [
    {
     "name": "stdout",
     "output_type": "stream",
     "text": [
      "\n",
      "\n",
      "1. The Dunder Mifflin Paper Company - Visit the office building where the show was filmed and take a tour of the set.\n",
      "\n",
      "2. Poor Richard's Pub - Enjoy a drink at the bar where the cast often hung out.\n",
      "\n",
      "3. Steamtown National Historic Site - Take a ride on the historic train that was featured in the show.\n",
      "\n",
      "4. The Scranton Cultural Center - Attend a show at the theater where the cast performed a play in the episode \"The Duel\".\n",
      "\n",
      "5. The Mall at Steamtown - Shop at the mall where the cast went on a shopping spree in the episode \"The Coup\".\n"
     ]
    }
   ],
   "source": [
    "print(\n",
    "    model(\n",
    "        \"You're Dwight K. Schrute from the Office. Suggest 5 places to visit in Scranton that are connected to the TV show.\"\n",
    "    )\n",
    ")"
   ]
  },
  {
   "attachments": {},
   "cell_type": "markdown",
   "metadata": {},
   "source": [
    "### Data loader"
   ]
  },
  {
   "cell_type": "code",
   "execution_count": 5,
   "metadata": {},
   "outputs": [],
   "source": [
    "loader = WebBaseLoader(\n",
    "    \"https://blog.twitter.com/engineering/en_us/topics/open-source/2023/twitter-recommendation-algorithm\"\n",
    ")"
   ]
  },
  {
   "cell_type": "code",
   "execution_count": 6,
   "metadata": {},
   "outputs": [
    {
     "data": {
      "text/plain": [
       "1"
      ]
     },
     "execution_count": 6,
     "metadata": {},
     "output_type": "execute_result"
    }
   ],
   "source": [
    "documents = loader.load()\n",
    "len(documents)"
   ]
  },
  {
   "cell_type": "code",
   "execution_count": 7,
   "metadata": {},
   "outputs": [
    {
     "data": {
      "text/plain": [
       "dict_keys(['page_content', 'metadata'])"
      ]
     },
     "execution_count": 7,
     "metadata": {},
     "output_type": "execute_result"
    }
   ],
   "source": [
    "document = documents[0]\n",
    "document.__dict__.keys()"
   ]
  },
  {
   "cell_type": "code",
   "execution_count": 8,
   "metadata": {},
   "outputs": [
    {
     "data": {
      "text/plain": [
       "\"\\n\\n\\n\\n\\nTwitter's Recommendation Algorithm\\n\\n\\n\\n\\n\\n\\n\\n\\n\\n\\n\\n\\n\\n\\n\\n\\n\\n\\n\\n\\n\\n\\n\\n\\n\\n\\n\\n\\n\\n\\n\\n\\n\\n\\n\\n\\n\\n\\n\\n\\nEngineering\\n\\n\\n\\n\\n\\nBac\""
      ]
     },
     "execution_count": 8,
     "metadata": {},
     "output_type": "execute_result"
    }
   ],
   "source": [
    "document.page_content[:100]"
   ]
  },
  {
   "cell_type": "code",
   "execution_count": 9,
   "metadata": {},
   "outputs": [
    {
     "data": {
      "text/plain": [
       "{'source': 'https://blog.twitter.com/engineering/en_us/topics/open-source/2023/twitter-recommendation-algorithm',\n",
       " 'title': \"Twitter's Recommendation Algorithm\",\n",
       " 'description': 'Twitter aims to deliver you the best of what’s happening in the world right now. This blog is an introduction to how the algorithm selects Tweets for your timeline.',\n",
       " 'language': 'en_us'}"
      ]
     },
     "execution_count": 9,
     "metadata": {},
     "output_type": "execute_result"
    }
   ],
   "source": [
    "document.metadata"
   ]
  },
  {
   "cell_type": "code",
   "execution_count": 10,
   "metadata": {},
   "outputs": [],
   "source": [
    "index = VectorstoreIndexCreator().from_loaders([loader])"
   ]
  },
  {
   "cell_type": "code",
   "execution_count": 11,
   "metadata": {},
   "outputs": [
    {
     "name": "stdout",
     "output_type": "stream",
     "text": [
      " The Twitter recommendation algorithm is composed of many interconnected services and jobs that aim\n",
      "to distill the roughly 500 million Tweets posted daily down to a handful of top Tweets that show up\n",
      "on your device’s For You timeline. The foundation of the algorithm is a set of core models and\n",
      "features that extract latent information from Tweet, user, and engagement data. The recommendation\n",
      "pipeline is made up of three main stages: fetching the best Tweets from different recommendation\n",
      "sources, ranking each Tweet using a machine learning model, and applying heuristics and filters. The\n",
      "service that is responsible for constructing and serving the For You timeline is called Home Mixer,\n",
      "which is built on Product Mixer, a custom Scala framework. Home Mixer acts as the software backbone\n",
      "that connects different candidate sources, scoring functions, heuristics, and filters.\n"
     ]
    }
   ],
   "source": [
    "query = \"\"\"\n",
    "You're Jarvis from Iron Man\n",
    "\n",
    "Explain the Twitter recommendation algorithm in 5 sentences.\n",
    "\"\"\"\n",
    "\n",
    "print_response(index.query(query))"
   ]
  },
  {
   "cell_type": "code",
   "execution_count": 12,
   "metadata": {},
   "outputs": [],
   "source": [
    "template = \"\"\"You're a personal assistant, Jane with full integration to iCloud accounts and devices.\n",
    " \n",
    "{context}\n",
    " \n",
    "Help get things done by executing commands like:\n",
    "\n",
    "- Open the calculator app\n",
    "- Open the calendar app\n",
    "- Send a text to John and tell him I'll be late\n",
    "- Read the last message from John\n",
    " \n",
    "Question: {question}\n",
    "Answer:\"\"\""
   ]
  },
  {
   "cell_type": "code",
   "execution_count": 13,
   "metadata": {},
   "outputs": [
    {
     "name": "stdout",
     "output_type": "stream",
     "text": [
      "You're a personal assistant, Jane with full integration to iCloud accounts and devices.\n",
      " \n",
      "It's Tuesday morning and I'm about to head out to work\n",
      " \n",
      "Help get things done by executing commands like:\n",
      "\n",
      "- Open the calculator app\n",
      "- Open the calendar app\n",
      "- Send a text to John and tell him I'll be late\n",
      "- Read the last message from John\n",
      " \n",
      "Question: What's my next appointment?\n",
      "Answer:\n"
     ]
    }
   ],
   "source": [
    "prompt = PromptTemplate(\n",
    "    template=template,\n",
    "    input_variables=[\"context\", \"question\"],\n",
    ")\n",
    "\n",
    "print(prompt.format(context=\"It's Tuesday morning and I'm about to head out to work\", question=\"What's my next appointment?\"))"
   ]
  },
  {
   "cell_type": "code",
   "execution_count": 14,
   "metadata": {},
   "outputs": [],
   "source": [
    "embedding = OpenAIEmbeddings()\n",
    "db = Chroma.from_documents(documents, embedding)"
   ]
  },
  {
   "cell_type": "code",
   "execution_count": 15,
   "metadata": {},
   "outputs": [],
   "source": [
    "chain_type_kwargs = {\"prompt\": prompt}\n",
    "chain = RetrievalQA.from_chain_type(\n",
    "    llm=ChatOpenAI(temperature=0.6),\n",
    "    chain_type=\"stuff\",\n",
    "    retriever=db.as_retriever(search_kwargs={\"k\": 1}),\n",
    "    chain_type_kwargs=chain_type_kwargs,\n",
    ")"
   ]
  },
  {
   "cell_type": "code",
   "execution_count": 16,
   "metadata": {},
   "outputs": [],
   "source": [
    "query = \"Explain the Twitter recommendation algorithm in 5 sentences.\"\n",
    "response = chain.run(query)"
   ]
  },
  {
   "cell_type": "code",
   "execution_count": 17,
   "metadata": {},
   "outputs": [
    {
     "name": "stdout",
     "output_type": "stream",
     "text": [
      "Twitter's recommendation algorithm distills the 500 million daily tweets down to a handful of top\n",
      "tweets for a user's timeline. The algorithm is composed of interconnected services and jobs that\n",
      "extract latent information from tweet, user, and engagement data. The recommendation pipeline has\n",
      "three main stages: candidate sourcing, ranking, and applying heuristics and filters. The Home Mixer\n",
      "service constructs and serves the For You timeline, and the algorithm uses a neural network to\n",
      "continuously train on tweet interactions and optimize for positive engagement. The algorithm also\n",
      "applies various product features, such as visibility filtering and social proof, to create a\n",
      "balanced and diverse feed.\n"
     ]
    }
   ],
   "source": [
    "print_response(response)"
   ]
  },
  {
   "attachments": {},
   "cell_type": "markdown",
   "metadata": {},
   "source": []
  }
 ],
 "metadata": {
  "kernelspec": {
   "display_name": "experiment",
   "language": "python",
   "name": "python3"
  },
  "language_info": {
   "codemirror_mode": {
    "name": "ipython",
    "version": 3
   },
   "file_extension": ".py",
   "mimetype": "text/x-python",
   "name": "python",
   "nbconvert_exporter": "python",
   "pygments_lexer": "ipython3",
   "version": "3.10.11"
  },
  "orig_nbformat": 4
 },
 "nbformat": 4,
 "nbformat_minor": 2
}
